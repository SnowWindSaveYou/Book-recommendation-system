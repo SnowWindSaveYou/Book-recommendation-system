{
 "cells": [
  {
   "cell_type": "code",
   "execution_count": 105,
   "metadata": {},
   "outputs": [],
   "source": [
    "import os\n",
    "import numpy as np\n",
    "import pandas as pd\n",
    "import math"
   ]
  },
  {
   "cell_type": "code",
   "execution_count": 2,
   "metadata": {},
   "outputs": [],
   "source": [
    "sss = \"0 5 1 1 0 6 1 2 1 5 1 2 2 25 2 3 2 36 2 4 2 53 3 5 3 150 4 6 3 213 5 7 3 298 5 8 4 345 6 9 4 123 4 10 4 212 5 11 4 453 7 12 4 156 4 13 4 278 5 14 5 300 5 15 5 78 3 16 5 256 5 17 6 78 3 7 6 145 4 8 7 139 4 8 9 34 2 10 9 134 4 11 9 546 7 12 9 23 2 13 9 145 4 14 10 256 5 11 10 222 5 12 10 190 4 13 10 56 3 14 11 78 3 12 11 112 4 13 12 98 3 14 15 88 3 16 15 128 4 17 16 238 5 17 17 5 1 7 16 15 2 6 16 23 2 7 16 54 3 8 16 18 2 9 16 23 2 11 16 41 2 13 16 13 2 14 16 27 2 10\""
   ]
  },
  {
   "cell_type": "code",
   "execution_count": 3,
   "metadata": {},
   "outputs": [],
   "source": [
    "s1 = sss.split(\" \")\n",
    "s2 = []\n",
    "for i in range(0,len(s1),4):\n",
    "    s2.append(s1[i:i+4])\n",
    "mail_arr = np.array(s2).astype(int)"
   ]
  },
  {
   "cell_type": "code",
   "execution_count": 35,
   "metadata": {},
   "outputs": [],
   "source": [
    "# index_name = ['ID','Emails per month','Weight','ID']\n",
    "\n",
    "# raw_list = pd.DataFrame(columns=index_name, data=s2)\n",
    "# data_name = 'email_communication_detail.csv'\n",
    "# raw_list.to_csv('./'+data_name)\n"
   ]
  },
  {
   "cell_type": "code",
   "execution_count": 88,
   "metadata": {},
   "outputs": [],
   "source": [
    "position_df = pd.read_csv('./staff.csv', header = 0)\n",
    "mail_df = pd.read_csv('./email_communication_detail.csv', header = 0, names =['source','mp','w','target'],usecols=[1,2,3,4])\n",
    "\n",
    "\n"
   ]
  },
  {
   "cell_type": "code",
   "execution_count": 91,
   "metadata": {},
   "outputs": [],
   "source": [
    "# position_df['Position'] = position_df['Name']+'\\n '+position_df['Position']\n"
   ]
  },
  {
   "cell_type": "code",
   "execution_count": 92,
   "metadata": {},
   "outputs": [
    {
     "data": {
      "text/plain": [
       "'{\"schema\": {\"fields\":[{\"name\":\"ID\",\"type\":\"integer\"},{\"name\":\"Name\",\"type\":\"string\"},{\"name\":\"Position\",\"type\":\"string\"}],\"primaryKey\":[\"ID\"],\"pandas_version\":\"0.20.0\"}, \"data\": [{\"ID\":0,\"Name\":\"James\",\"Position\":\"Director\"},{\"ID\":1,\"Name\":\"David\",\"Position\":\"Director\"},{\"ID\":2,\"Name\":\"George\",\"Position\":\"CEO\"},{\"ID\":3,\"Name\":\"Ronald\",\"Position\":\"Business Development Manager\"},{\"ID\":4,\"Name\":\"John\",\"Position\":\"Business Support Manager\"},{\"ID\":5,\"Name\":\"Richard\",\"Position\":\"Business Control Manager\"},{\"ID\":6,\"Name\":\"Daniel\",\"Position\":\"Sales Department Leader\"},{\"ID\":7,\"Name\":\"Kenneth\",\"Position\":\"Product Department Leader\"},{\"ID\":8,\"Name\":\"Anthony\",\"Position\":\"Marketing Department Leader\"},{\"ID\":9,\"Name\":\"Robert\",\"Position\":\"Project Office Leader\"},{\"ID\":10,\"Name\":\"Charles\",\"Position\":\"Professional Service Leader\"},{\"ID\":11,\"Name\":\"Paul\",\"Position\":\"QA Leader\"},{\"ID\":12,\"Name\":\"Mark\",\"Position\":\"Design Office Leader\"},{\"ID\":13,\"Name\":\"Kevin\",\"Position\":\"Technical Support Office Leader\"},{\"ID\":14,\"Name\":\"Edward\",\"Position\":\"Software Development Leader\"},{\"ID\":15,\"Name\":\"Joseph\",\"Position\":\"Legal Office Leader\"},{\"ID\":16,\"Name\":\"Michael\",\"Position\":\"Finance Office Leader\"},{\"ID\":17,\"Name\":\"Jason\",\"Position\":\"HR Office Leader\"}]}'"
      ]
     },
     "execution_count": 92,
     "metadata": {},
     "output_type": "execute_result"
    }
   ],
   "source": [
    "position_df.set_index(\"ID\")[['Name','Position']].to_json(orient=\"table\")"
   ]
  },
  {
   "cell_type": "code",
   "execution_count": 53,
   "metadata": {},
   "outputs": [],
   "source": [
    "# mail_df.to_json(orient=\"index\")\n",
    "mail_df1 = mail_df.merge(position_df,left_on='source',right_on='ID' )[['Position','w','target']].rename(columns={'Position':'source'})"
   ]
  },
  {
   "cell_type": "code",
   "execution_count": 82,
   "metadata": {},
   "outputs": [],
   "source": [
    "\n",
    "mail_df2 = mail_df1.merge(position_df,left_on='target',right_on='ID' )[['source','w','Position']].rename(columns={'Position':'target'})\n",
    "\n",
    "\n"
   ]
  },
  {
   "cell_type": "code",
   "execution_count": 83,
   "metadata": {},
   "outputs": [],
   "source": [
    "mail_json = mail_df2.to_json(orient=\"table\")"
   ]
  },
  {
   "cell_type": "code",
   "execution_count": 85,
   "metadata": {},
   "outputs": [
    {
     "data": {
      "text/plain": [
       "'{\"schema\": {\"fields\":[{\"name\":\"index\",\"type\":\"integer\"},{\"name\":\"source\",\"type\":\"string\"},{\"name\":\"w\",\"type\":\"integer\"},{\"name\":\"target\",\"type\":\"string\"}],\"primaryKey\":[\"index\"],\"pandas_version\":\"0.20.0\"}, \"data\": [{\"index\":0,\"source\":\"James-Director\",\"w\":1,\"target\":\"David-Director\"},{\"index\":1,\"source\":\"James-Director\",\"w\":1,\"target\":\"George-CEO\"},{\"index\":2,\"source\":\"David-Director\",\"w\":1,\"target\":\"George-CEO\"},{\"index\":3,\"source\":\"George-CEO\",\"w\":2,\"target\":\"Ronald-Business Development Manager\"},{\"index\":4,\"source\":\"George-CEO\",\"w\":2,\"target\":\"John-Business Support Manager\"},{\"index\":5,\"source\":\"George-CEO\",\"w\":3,\"target\":\"Richard-Business Control Manager\"},{\"index\":6,\"source\":\"Ronald-Business Development Manager\",\"w\":4,\"target\":\"Daniel-Sales Department Leader\"},{\"index\":7,\"source\":\"Michael-Finance Office Leader\",\"w\":2,\"target\":\"Daniel-Sales Department Leader\"},{\"index\":8,\"source\":\"Ronald-Business Development Manager\",\"w\":5,\"target\":\"Kenneth-Product Department Leader\"},{\"index\":9,\"source\":\"Daniel-Sales Department Leader\",\"w\":3,\"target\":\"Kenneth-Product Department Leader\"},{\"index\":10,\"source\":\"Michael-Finance Office Leader\",\"w\":2,\"target\":\"Kenneth-Product Department Leader\"},{\"index\":11,\"source\":\"Jason-HR Office Leader\",\"w\":1,\"target\":\"Kenneth-Product Department Leader\"},{\"index\":12,\"source\":\"Ronald-Business Development Manager\",\"w\":5,\"target\":\"Anthony-Marketing Department Leader\"},{\"index\":13,\"source\":\"Daniel-Sales Department Leader\",\"w\":4,\"target\":\"Anthony-Marketing Department Leader\"},{\"index\":14,\"source\":\"Kenneth-Product Department Leader\",\"w\":4,\"target\":\"Anthony-Marketing Department Leader\"},{\"index\":15,\"source\":\"Michael-Finance Office Leader\",\"w\":3,\"target\":\"Anthony-Marketing Department Leader\"},{\"index\":16,\"source\":\"John-Business Support Manager\",\"w\":6,\"target\":\"Robert-Project Office Leader\"},{\"index\":17,\"source\":\"Michael-Finance Office Leader\",\"w\":2,\"target\":\"Robert-Project Office Leader\"},{\"index\":18,\"source\":\"John-Business Support Manager\",\"w\":4,\"target\":\"Charles-Professional Service Leader\"},{\"index\":19,\"source\":\"Robert-Project Office Leader\",\"w\":2,\"target\":\"Charles-Professional Service Leader\"},{\"index\":20,\"source\":\"Michael-Finance Office Leader\",\"w\":2,\"target\":\"Charles-Professional Service Leader\"},{\"index\":21,\"source\":\"John-Business Support Manager\",\"w\":5,\"target\":\"Paul-QA Leader\"},{\"index\":22,\"source\":\"Robert-Project Office Leader\",\"w\":4,\"target\":\"Paul-QA Leader\"},{\"index\":23,\"source\":\"Charles-Professional Service Leader\",\"w\":5,\"target\":\"Paul-QA Leader\"},{\"index\":24,\"source\":\"Michael-Finance Office Leader\",\"w\":2,\"target\":\"Paul-QA Leader\"},{\"index\":25,\"source\":\"John-Business Support Manager\",\"w\":7,\"target\":\"Mark-Design Office Leader\"},{\"index\":26,\"source\":\"Robert-Project Office Leader\",\"w\":7,\"target\":\"Mark-Design Office Leader\"},{\"index\":27,\"source\":\"Charles-Professional Service Leader\",\"w\":5,\"target\":\"Mark-Design Office Leader\"},{\"index\":28,\"source\":\"Paul-QA Leader\",\"w\":3,\"target\":\"Mark-Design Office Leader\"},{\"index\":29,\"source\":\"John-Business Support Manager\",\"w\":4,\"target\":\"Kevin-Technical Support Office Leader\"},{\"index\":30,\"source\":\"Robert-Project Office Leader\",\"w\":2,\"target\":\"Kevin-Technical Support Office Leader\"},{\"index\":31,\"source\":\"Charles-Professional Service Leader\",\"w\":4,\"target\":\"Kevin-Technical Support Office Leader\"},{\"index\":32,\"source\":\"Paul-QA Leader\",\"w\":4,\"target\":\"Kevin-Technical Support Office Leader\"},{\"index\":33,\"source\":\"Michael-Finance Office Leader\",\"w\":2,\"target\":\"Kevin-Technical Support Office Leader\"},{\"index\":34,\"source\":\"John-Business Support Manager\",\"w\":5,\"target\":\"Edward-Software Development Leader\"},{\"index\":35,\"source\":\"Robert-Project Office Leader\",\"w\":4,\"target\":\"Edward-Software Development Leader\"},{\"index\":36,\"source\":\"Charles-Professional Service Leader\",\"w\":3,\"target\":\"Edward-Software Development Leader\"},{\"index\":37,\"source\":\"Mark-Design Office Leader\",\"w\":3,\"target\":\"Edward-Software Development Leader\"},{\"index\":38,\"source\":\"Michael-Finance Office Leader\",\"w\":2,\"target\":\"Edward-Software Development Leader\"},{\"index\":39,\"source\":\"Richard-Business Control Manager\",\"w\":5,\"target\":\"Joseph-Legal Office Leader\"},{\"index\":40,\"source\":\"Richard-Business Control Manager\",\"w\":3,\"target\":\"Michael-Finance Office Leader\"},{\"index\":41,\"source\":\"Joseph-Legal Office Leader\",\"w\":3,\"target\":\"Michael-Finance Office Leader\"},{\"index\":42,\"source\":\"Richard-Business Control Manager\",\"w\":5,\"target\":\"Jason-HR Office Leader\"},{\"index\":43,\"source\":\"Joseph-Legal Office Leader\",\"w\":4,\"target\":\"Jason-HR Office Leader\"},{\"index\":44,\"source\":\"Michael-Finance Office Leader\",\"w\":5,\"target\":\"Jason-HR Office Leader\"}]}'"
      ]
     },
     "execution_count": 85,
     "metadata": {},
     "output_type": "execute_result"
    }
   ],
   "source": [
    "mail_json"
   ]
  },
  {
   "cell_type": "markdown",
   "metadata": {},
   "source": [
    "# Markove Cluster\n",
    "\n",
    "### Ramdom Work\n",
    "\n",
    "### Markove Chain\n"
   ]
  },
  {
   "cell_type": "code",
   "execution_count": 28,
   "metadata": {},
   "outputs": [
    {
     "name": "stdout",
     "output_type": "stream",
     "text": [
      "[[1.00000000e+000 1.00000000e+000 1.00000000e+000 1.00000000e+000]\n",
      " [5.23869755e-218 5.23869755e-218 5.23869755e-218 5.23869755e-218]\n",
      " [0.00000000e+000 0.00000000e+000 0.00000000e+000 0.00000000e+000]\n",
      " [5.23869755e-218 5.23869755e-218 5.23869755e-218 5.23869755e-218]]\n"
     ]
    }
   ],
   "source": [
    "\n",
    "def markovCluster(adjacencyMat, dimension, numIter, power = 2, inflation = 2):\n",
    "    columnSum = np.sum(adjacencyMat, axis = 0)\n",
    "    probabilityMat = adjacencyMat / columnSum\n",
    "    \n",
    "    #Expand by taking the e^th power of the matrix.\n",
    "    def _expand(probabilityMat, power):\n",
    "        expandMat = probabilityMat\n",
    "        for i in range(power - 1):\n",
    "            expandMat = np.dot(expandMat, probabilityMat)\n",
    "        return expandMat\n",
    "    expandMat = _expand(probabilityMat, power)\n",
    "    \n",
    "    #Inflate by taking inflation of the resulting \n",
    "    #matrix with parameter inflation. \n",
    "    def _inflate(expandMat, inflation):\n",
    "        powerMat = expandMat\n",
    "        for i in range(inflation - 1):\n",
    "            powerMat = powerMat * expandMat\n",
    "        inflateColumnSum = np.sum(powerMat, axis = 0)\n",
    "        inflateMat = powerMat / inflateColumnSum\n",
    "        return inflateMat\n",
    "    inflateMat = _inflate(expandMat, inflation)\n",
    "    \n",
    "    for i in range(numIter):\n",
    "        expand = _expand(inflateMat, power)\n",
    "        inflateMat = _inflate(expand, inflation)\n",
    "    print(inflateMat)\n",
    "    return inflateMat\n",
    "    \n",
    "    \n",
    "if __name__ == \"__main__\":\n",
    "    dimension = 4\n",
    "    numIter = 10\n",
    "    adjacencyMat = np.array([[1, 1, 1, 1],\n",
    "                             [1, 1, 0, 1],\n",
    "                             [1, 0, 1, 0],\n",
    "                             [1, 1, 0, 1]])\n",
    "    markovCluster(adjacencyMat, dimension, numIter)"
   ]
  },
  {
   "cell_type": "code",
   "execution_count": 37,
   "metadata": {},
   "outputs": [],
   "source": [
    "node_num = mail_arr[:,0].max()+1\n",
    "pb_matrix = np.zeros((node_num,node_num))"
   ]
  },
  {
   "cell_type": "code",
   "execution_count": 94,
   "metadata": {},
   "outputs": [],
   "source": [
    "# for i in mail_arr:\n",
    "#     pb_matrix[i[0],i[3]]=i[1]\n",
    "#     pb_matrix[i[3],i[0]]=i[1]\n",
    "for i in mail_arr:\n",
    "    pb_matrix[i[0],i[3]]=1\n",
    "    pb_matrix[i[3],i[0]]=1"
   ]
  },
  {
   "cell_type": "code",
   "execution_count": 95,
   "metadata": {},
   "outputs": [
    {
     "name": "stdout",
     "output_type": "stream",
     "text": [
      "[[0. 0. 0. 0. 0. 0. 0. 0. 0. 0. 0. 0. 0. 0. 0. 0. 0. 0.]\n",
      " [0. 0. 0. 0. 0. 0. 0. 0. 0. 0. 0. 0. 0. 0. 0. 0. 0. 0.]\n",
      " [1. 1. 1. 0. 0. 0. 0. 0. 0. 0. 0. 0. 0. 0. 0. 0. 0. 0.]\n",
      " [0. 0. 0. 0. 0. 0. 0. 0. 0. 0. 0. 0. 0. 0. 0. 0. 0. 0.]\n",
      " [0. 0. 0. 0. 0. 0. 0. 0. 0. 0. 0. 0. 0. 0. 0. 0. 0. 0.]\n",
      " [0. 0. 0. 0. 0. 0. 0. 0. 0. 0. 0. 0. 0. 0. 0. 0. 0. 0.]\n",
      " [0. 0. 0. 0. 0. 0. 0. 0. 0. 0. 0. 0. 0. 0. 0. 0. 0. 0.]\n",
      " [0. 0. 0. 0. 0. 0. 0. 0. 0. 0. 0. 0. 0. 0. 0. 0. 0. 0.]\n",
      " [0. 0. 0. 0. 0. 0. 0. 0. 0. 0. 0. 0. 0. 0. 0. 0. 0. 0.]\n",
      " [0. 0. 0. 0. 0. 0. 0. 0. 0. 0. 0. 0. 0. 0. 0. 0. 0. 0.]\n",
      " [0. 0. 0. 0. 0. 0. 0. 0. 0. 0. 0. 0. 0. 0. 0. 0. 0. 0.]\n",
      " [0. 0. 0. 0. 0. 0. 0. 0. 0. 0. 0. 0. 0. 0. 0. 0. 0. 0.]\n",
      " [0. 0. 0. 0. 0. 0. 0. 0. 0. 0. 0. 0. 0. 0. 0. 0. 0. 0.]\n",
      " [0. 0. 0. 0. 0. 0. 0. 0. 0. 0. 0. 0. 0. 0. 0. 0. 0. 0.]\n",
      " [0. 0. 0. 0. 0. 0. 0. 0. 0. 0. 0. 0. 0. 0. 0. 0. 0. 0.]\n",
      " [0. 0. 0. 0. 0. 0. 0. 0. 0. 0. 0. 0. 0. 0. 0. 0. 0. 0.]\n",
      " [0. 0. 0. 1. 1. 1. 1. 1. 1. 1. 1. 1. 1. 1. 1. 1. 1. 1.]\n",
      " [0. 0. 0. 0. 0. 0. 0. 0. 0. 0. 0. 0. 0. 0. 0. 0. 0. 0.]]\n"
     ]
    }
   ],
   "source": [
    "cluster_matrix = markovCluster(pb_matrix,node_num,20)"
   ]
  },
  {
   "cell_type": "code",
   "execution_count": 96,
   "metadata": {},
   "outputs": [],
   "source": [
    "clusters = []\n",
    "for i in cluster_matrix:\n",
    "    cluster = list(np.nonzero(i)[0])\n",
    "    if len(cluster)>1:\n",
    "        clusters.append(cluster)"
   ]
  },
  {
   "cell_type": "code",
   "execution_count": 97,
   "metadata": {},
   "outputs": [
    {
     "data": {
      "text/plain": [
       "[[0, 1, 2], [3, 4, 5, 6, 7, 8, 9, 10, 11, 12, 13, 14, 15, 16, 17]]"
      ]
     },
     "execution_count": 97,
     "metadata": {},
     "output_type": "execute_result"
    }
   ],
   "source": [
    "clusters"
   ]
  },
  {
   "cell_type": "code",
   "execution_count": 98,
   "metadata": {},
   "outputs": [],
   "source": [
    "m = [11, 10, 125, 686, 1603, 687, 388, 458, 636, 1245, 908, 815, 1397, 522, 590, 516, 618, 627]"
   ]
  },
  {
   "cell_type": "code",
   "execution_count": 104,
   "metadata": {},
   "outputs": [],
   "source": [
    "avg = sum(m)/len(m)"
   ]
  },
  {
   "cell_type": "code",
   "execution_count": 108,
   "metadata": {},
   "outputs": [],
   "source": [
    "m = np.array(m)"
   ]
  },
  {
   "cell_type": "code",
   "execution_count": 116,
   "metadata": {},
   "outputs": [
    {
     "data": {
      "text/plain": [
       "array([2.32480686e+04, 2.33200007e+04, 1.57761427e+04, 4.39019204e+01,\n",
       "       4.96241674e+04, 4.70809328e+01, 4.04666735e+03, 2.21975377e+03,\n",
       "       2.66179698e+01, 1.91499698e+04, 3.47530933e+03, 1.37132785e+03,\n",
       "       3.03491797e+04, 1.02587723e+03, 2.56050069e+02, 1.11846982e+03,\n",
       "       8.83957476e+01, 5.30068587e+01])"
      ]
     },
     "execution_count": 116,
     "metadata": {},
     "output_type": "execute_result"
    }
   ],
   "source": []
  },
  {
   "cell_type": "code",
   "execution_count": 120,
   "metadata": {},
   "outputs": [],
   "source": [
    "m = np.sqrt(pow(m - (sum(m)/len(m)),2)/len(m))"
   ]
  },
  {
   "cell_type": "code",
   "execution_count": 127,
   "metadata": {},
   "outputs": [
    {
     "data": {
      "text/plain": [
       "array([10.94924554, 10.89368999, 17.28257888, 14.67421125, -5.61865569,\n",
       "       14.7297668 ])"
      ]
     },
     "execution_count": 127,
     "metadata": {},
     "output_type": "execute_result"
    }
   ],
   "source": [
    "30 -m[:6] "
   ]
  },
  {
   "cell_type": "code",
   "execution_count": 129,
   "metadata": {},
   "outputs": [
    {
     "data": {
      "text/plain": [
       "array([31.89368999, 35.78257888, 45.67146776, 45.7297668 , 32.99245542,\n",
       "       38.15912209, 54.17421125, 39.33813443, 43.11591221, 39.0048011 ,\n",
       "       44.67146776, 45.17146776])"
      ]
     },
     "execution_count": 129,
     "metadata": {},
     "output_type": "execute_result"
    }
   ],
   "source": [
    "30 +m[6:] "
   ]
  },
  {
   "cell_type": "code",
   "execution_count": null,
   "metadata": {},
   "outputs": [],
   "source": [
    "[10.94924554, 10.89368999, 17.28257888, 14.67421125, -5.61865569,\n",
    "       14.7297668,31.89368999, 35.78257888, 45.67146776, 45.7297668 , 32.99245542,\n",
    "       38.15912209, 54.17421125, 39.33813443, 43.11591221, 39.0048011 ,\n",
    "       44.67146776, 45.17146776]"
   ]
  }
 ],
 "metadata": {
  "kernelspec": {
   "display_name": "Python 3",
   "language": "python",
   "name": "python3"
  },
  "language_info": {
   "codemirror_mode": {
    "name": "ipython",
    "version": 3
   },
   "file_extension": ".py",
   "mimetype": "text/x-python",
   "name": "python",
   "nbconvert_exporter": "python",
   "pygments_lexer": "ipython3",
   "version": "3.6.8"
  },
  "toc": {
   "base_numbering": 1,
   "nav_menu": {},
   "number_sections": true,
   "sideBar": true,
   "skip_h1_title": false,
   "title_cell": "Table of Contents",
   "title_sidebar": "Contents",
   "toc_cell": false,
   "toc_position": {},
   "toc_section_display": true,
   "toc_window_display": false
  }
 },
 "nbformat": 4,
 "nbformat_minor": 2
}
