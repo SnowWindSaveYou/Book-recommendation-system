{
 "cells": [
  {
   "cell_type": "code",
   "execution_count": 9,
   "metadata": {},
   "outputs": [],
   "source": [
    "import os\n",
    "import numpy as np\n",
    "import pandas as pd"
   ]
  },
  {
   "cell_type": "code",
   "execution_count": 4,
   "metadata": {},
   "outputs": [],
   "source": [
    "sss = \"0 5 1 1 0 6 1 2 1 5 1 2 2 25 2 3 2 36 2 4 2 53 3 5 3 150 4 6 3 213 5 7 3 298 5 8 4 345 6 9 4 123 4 10 4 212 5 11 4 453 7 12 4 156 4 13 4 278 5 14 5 300 5 15 5 78 3 16 5 256 5 17 6 78 3 7 6 145 4 8 7 139 4 8 9 34 2 10 9 134 4 11 9 546 7 12 9 23 2 13 9 145 4 14 10 256 5 11 10 222 5 12 10 190 4 13 10 56 3 14 11 78 3 12 11 112 4 13 12 98 3 14 15 88 3 16 15 128 4 17 16 238 5 17 17 5 1 7 16 15 2 6 16 23 2 7 16 54 3 8 16 18 2 9 16 23 2 11 16 41 2 13 16 13 2 14 16 27 2 10\""
   ]
  },
  {
   "cell_type": "code",
   "execution_count": 34,
   "metadata": {},
   "outputs": [],
   "source": [
    "s1 = sss.split(\" \")\n",
    "s2 = []\n",
    "for i in range(0,len(s1),4):\n",
    "    s2.append(s1[i:i+4])\n",
    "mail_arr = np.array(s2).astype(int)"
   ]
  },
  {
   "cell_type": "code",
   "execution_count": 35,
   "metadata": {},
   "outputs": [],
   "source": [
    "# index_name = ['ID','Emails per month','Weight','ID']\n",
    "\n",
    "# raw_list = pd.DataFrame(columns=index_name, data=s2)\n",
    "# data_name = 'email_communication_detail.csv'\n",
    "# raw_list.to_csv('./'+data_name)"
   ]
  },
  {
   "cell_type": "code",
   "execution_count": 36,
   "metadata": {},
   "outputs": [
    {
     "data": {
      "text/plain": [
       "array([[  0,   5,   1,   1],\n",
       "       [  0,   6,   1,   2],\n",
       "       [  1,   5,   1,   2],\n",
       "       [  2,  25,   2,   3],\n",
       "       [  2,  36,   2,   4],\n",
       "       [  2,  53,   3,   5],\n",
       "       [  3, 150,   4,   6],\n",
       "       [  3, 213,   5,   7],\n",
       "       [  3, 298,   5,   8],\n",
       "       [  4, 345,   6,   9],\n",
       "       [  4, 123,   4,  10],\n",
       "       [  4, 212,   5,  11],\n",
       "       [  4, 453,   7,  12],\n",
       "       [  4, 156,   4,  13],\n",
       "       [  4, 278,   5,  14],\n",
       "       [  5, 300,   5,  15],\n",
       "       [  5,  78,   3,  16],\n",
       "       [  5, 256,   5,  17],\n",
       "       [  6,  78,   3,   7],\n",
       "       [  6, 145,   4,   8],\n",
       "       [  7, 139,   4,   8],\n",
       "       [  9,  34,   2,  10],\n",
       "       [  9, 134,   4,  11],\n",
       "       [  9, 546,   7,  12],\n",
       "       [  9,  23,   2,  13],\n",
       "       [  9, 145,   4,  14],\n",
       "       [ 10, 256,   5,  11],\n",
       "       [ 10, 222,   5,  12],\n",
       "       [ 10, 190,   4,  13],\n",
       "       [ 10,  56,   3,  14],\n",
       "       [ 11,  78,   3,  12],\n",
       "       [ 11, 112,   4,  13],\n",
       "       [ 12,  98,   3,  14],\n",
       "       [ 15,  88,   3,  16],\n",
       "       [ 15, 128,   4,  17],\n",
       "       [ 16, 238,   5,  17],\n",
       "       [ 17,   5,   1,   7],\n",
       "       [ 16,  15,   2,   6],\n",
       "       [ 16,  23,   2,   7],\n",
       "       [ 16,  54,   3,   8],\n",
       "       [ 16,  18,   2,   9],\n",
       "       [ 16,  23,   2,  11],\n",
       "       [ 16,  41,   2,  13],\n",
       "       [ 16,  13,   2,  14],\n",
       "       [ 16,  27,   2,  10]])"
      ]
     },
     "execution_count": 36,
     "metadata": {},
     "output_type": "execute_result"
    }
   ],
   "source": [
    "mail_arr"
   ]
  },
  {
   "cell_type": "markdown",
   "metadata": {},
   "source": [
    "# Markove Cluster\n",
    "\n",
    "### Ramdom Work\n",
    "\n",
    "### Markove Chain\n"
   ]
  },
  {
   "cell_type": "code",
   "execution_count": 24,
   "metadata": {},
   "outputs": [
    {
     "name": "stdout",
     "output_type": "stream",
     "text": [
      "[[1.00000000e+000 1.00000000e+000 1.00000000e+000 1.00000000e+000]\n",
      " [5.23869755e-218 5.23869755e-218 5.23869755e-218 5.23869755e-218]\n",
      " [0.00000000e+000 0.00000000e+000 0.00000000e+000 0.00000000e+000]\n",
      " [5.23869755e-218 5.23869755e-218 5.23869755e-218 5.23869755e-218]]\n"
     ]
    }
   ],
   "source": [
    "\n",
    "def markovCluster(adjacencyMat, dimension, numIter, power = 2, inflation = 2):\n",
    "    columnSum = np.sum(adjacencyMat, axis = 0)\n",
    "    probabilityMat = adjacencyMat / columnSum\n",
    "    \n",
    "    #Expand by taking the e^th power of the matrix.\n",
    "    def _expand(probabilityMat, power):\n",
    "        expandMat = probabilityMat\n",
    "        for i in range(power - 1):\n",
    "            expandMat = np.dot(expandMat, probabilityMat)\n",
    "        return expandMat\n",
    "    expandMat = _expand(probabilityMat, power)\n",
    "    \n",
    "    #Inflate by taking inflation of the resulting \n",
    "    #matrix with parameter inflation. \n",
    "    def _inflate(expandMat, inflation):\n",
    "        powerMat = expandMat\n",
    "        for i in range(inflation - 1):\n",
    "            powerMat = powerMat * expandMat\n",
    "        inflateColumnSum = np.sum(powerMat, axis = 0)\n",
    "        inflateMat = powerMat / inflateColumnSum\n",
    "        return inflateMat\n",
    "    inflateMat = _inflate(expandMat, inflation)\n",
    "    \n",
    "    for i in range(numIter):\n",
    "        expand = _expand(inflateMat, power)\n",
    "        inflateMat = _inflate(expand, inflation)\n",
    "    print(inflateMat)\n",
    "    return inflateMat\n",
    "    \n",
    "    \n",
    "if __name__ == \"__main__\":\n",
    "    dimension = 4\n",
    "    numIter = 10\n",
    "    adjacencyMat = np.array([[1, 1, 1, 1],\n",
    "                             [1, 1, 0, 1],\n",
    "                             [1, 0, 1, 0],\n",
    "                             [1, 1, 0, 1]])\n",
    "    markovCluster(adjacencyMat, dimension, numIter)"
   ]
  },
  {
   "cell_type": "code",
   "execution_count": 42,
   "metadata": {},
   "outputs": [],
   "source": [
    "node_num = mail_arr[:,0].max()+1\n",
    "pb_matrix = np.zeros((node_num,node_num))"
   ]
  },
  {
   "cell_type": "code",
   "execution_count": 45,
   "metadata": {},
   "outputs": [],
   "source": [
    "for i in mail_arr:\n",
    "    pb_matrix[i[0],i[3]]=i[2]\n",
    "    pb_matrix[i[3],i[0]]=i[2]"
   ]
  },
  {
   "cell_type": "code",
   "execution_count": 50,
   "metadata": {},
   "outputs": [
    {
     "name": "stdout",
     "output_type": "stream",
     "text": [
      "[[0. 0. 0. 0. 0. 0. 0. 0. 0. 0. 0. 0. 0. 0. 0. 0. 0. 0.]\n",
      " [0. 0. 0. 0. 0. 0. 0. 0. 0. 0. 0. 0. 0. 0. 0. 0. 0. 0.]\n",
      " [0. 0. 0. 0. 0. 0. 0. 0. 0. 0. 0. 0. 0. 0. 0. 0. 0. 0.]\n",
      " [0. 0. 0. 1. 0. 0. 1. 1. 1. 0. 0. 0. 0. 0. 0. 0. 0. 0.]\n",
      " [0. 0. 0. 0. 1. 0. 0. 0. 0. 1. 1. 1. 1. 1. 1. 0. 0. 0.]\n",
      " [1. 1. 1. 0. 0. 1. 0. 0. 0. 0. 0. 0. 0. 0. 0. 1. 1. 1.]\n",
      " [0. 0. 0. 0. 0. 0. 0. 0. 0. 0. 0. 0. 0. 0. 0. 0. 0. 0.]\n",
      " [0. 0. 0. 0. 0. 0. 0. 0. 0. 0. 0. 0. 0. 0. 0. 0. 0. 0.]\n",
      " [0. 0. 0. 0. 0. 0. 0. 0. 0. 0. 0. 0. 0. 0. 0. 0. 0. 0.]\n",
      " [0. 0. 0. 0. 0. 0. 0. 0. 0. 0. 0. 0. 0. 0. 0. 0. 0. 0.]\n",
      " [0. 0. 0. 0. 0. 0. 0. 0. 0. 0. 0. 0. 0. 0. 0. 0. 0. 0.]\n",
      " [0. 0. 0. 0. 0. 0. 0. 0. 0. 0. 0. 0. 0. 0. 0. 0. 0. 0.]\n",
      " [0. 0. 0. 0. 0. 0. 0. 0. 0. 0. 0. 0. 0. 0. 0. 0. 0. 0.]\n",
      " [0. 0. 0. 0. 0. 0. 0. 0. 0. 0. 0. 0. 0. 0. 0. 0. 0. 0.]\n",
      " [0. 0. 0. 0. 0. 0. 0. 0. 0. 0. 0. 0. 0. 0. 0. 0. 0. 0.]\n",
      " [0. 0. 0. 0. 0. 0. 0. 0. 0. 0. 0. 0. 0. 0. 0. 0. 0. 0.]\n",
      " [0. 0. 0. 0. 0. 0. 0. 0. 0. 0. 0. 0. 0. 0. 0. 0. 0. 0.]\n",
      " [0. 0. 0. 0. 0. 0. 0. 0. 0. 0. 0. 0. 0. 0. 0. 0. 0. 0.]]\n"
     ]
    }
   ],
   "source": [
    "cluster_matrix = markovCluster(pb_matrix,node_num,20)"
   ]
  },
  {
   "cell_type": "code",
   "execution_count": null,
   "metadata": {},
   "outputs": [],
   "source": [
    "cluster = []\n",
    "for i in cluster_matrix:\n",
    "    "
   ]
  },
  {
   "cell_type": "code",
   "execution_count": 53,
   "metadata": {},
   "outputs": [],
   "source": [
    "cluster_matrix"
   ]
  },
  {
   "cell_type": "code",
   "execution_count": null,
   "metadata": {},
   "outputs": [],
   "source": []
  }
 ],
 "metadata": {
  "kernelspec": {
   "display_name": "Python 3",
   "language": "python",
   "name": "python3"
  },
  "language_info": {
   "codemirror_mode": {
    "name": "ipython",
    "version": 3
   },
   "file_extension": ".py",
   "mimetype": "text/x-python",
   "name": "python",
   "nbconvert_exporter": "python",
   "pygments_lexer": "ipython3",
   "version": "3.6.8"
  },
  "toc": {
   "base_numbering": 1,
   "nav_menu": {},
   "number_sections": true,
   "sideBar": true,
   "skip_h1_title": false,
   "title_cell": "Table of Contents",
   "title_sidebar": "Contents",
   "toc_cell": false,
   "toc_position": {},
   "toc_section_display": true,
   "toc_window_display": false
  }
 },
 "nbformat": 4,
 "nbformat_minor": 2
}
