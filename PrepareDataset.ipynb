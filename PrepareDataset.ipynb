{
 "cells": [
  {
   "cell_type": "code",
   "execution_count": 1,
   "metadata": {},
   "outputs": [],
   "source": [
    "# try to connect sql\n",
    "import pymysql\n",
    "import pandas as pd\n",
    "import os\n",
    "import csv\n",
    "\n",
    "HOST = \"127.0.0.1\"\n",
    "PORT = 3306\n",
    "USER = 'root'\n",
    "PASS = \"12345678\"\n",
    "DB = \"bookrs\""
   ]
  },
  {
   "cell_type": "code",
   "execution_count": 2,
   "metadata": {
    "code_folding": []
   },
   "outputs": [],
   "source": [
    "conn = pymysql.connect(\n",
    "    host=HOST, \n",
    "    port=PORT, \n",
    "    user=USER,\n",
    "    password=PASS,\n",
    "    database=DB,\n",
    "    charset=\"utf8\")\n",
    "\n",
    "cursor = conn.cursor()\n",
    "\n",
    "cursor.execute('drop table if exists books')\n",
    "sql = \"\"\"\n",
    "create table `test` (book_id INT AUTO_INCREMENT not null primary key, `best_book_id` INT,`work_id` INT,`books_count` INT,`isbn` VARCHAR(255),`isbn13` VARCHAR(255),`authors` VARCHAR(510),`original_publication_year` VARCHAR(255),`original_title` VARCHAR(255),`title` VARCHAR(255),`language_code` VARCHAR(255),`average_rating` FLOAT,`ratings_count` INT,`work_ratings_count` INT,`work_text_reviews_count` INT,`ratings_1` INT,`ratings_2` INT,`ratings_3` INT,`ratings_4` INT,`ratings_5` INT,`image_url` VARCHAR(255),`small_image_url` VARCHAR(255))\n",
    "\"\"\"\n",
    "\n",
    "cursor.execute(sql)\n",
    "cursor.close()\n",
    "\n",
    "conn.close()"
   ]
  },
  {
   "cell_type": "code",
   "execution_count": 14,
   "metadata": {},
   "outputs": [
    {
     "data": {
      "text/plain": [
       "(981756, 3)"
      ]
     },
     "execution_count": 14,
     "metadata": {},
     "output_type": "execute_result"
    }
   ],
   "source": [
    "rating_df = pd.read_csv('./book-data/ratings.csv', header = 0)\n",
    "rating_df.shape"
   ]
  },
  {
   "cell_type": "code",
   "execution_count": 91,
   "metadata": {},
   "outputs": [
    {
     "name": "stdout",
     "output_type": "stream",
     "text": [
      "`id`\n",
      "`book_id`\n",
      "`best_book_id`\n",
      "`work_id`\n",
      "`books_count`\n",
      "`isbn`\n",
      "`isbn13`\n",
      "`authors`\n",
      "`original_publication_year`\n",
      "`original_title`\n",
      "`title`\n",
      "`language_code`\n",
      "`average_rating`\n",
      "`ratings_count`\n",
      "`work_ratings_count`\n",
      "`work_text_reviews_count`\n",
      "`ratings_1`\n",
      "`ratings_2`\n",
      "`ratings_3`\n",
      "`ratings_4`\n",
      "`ratings_5`\n",
      "`image_url`\n",
      "`small_image_url`\n"
     ]
    }
   ],
   "source": [
    "columns = books_df.columns\n",
    "for item in columns:\n",
    "    item1 = '`'+item.replace(' ', '_').replace(':','')+'`'\n",
    "    print(item1)"
   ]
  },
  {
   "cell_type": "code",
   "execution_count": 156,
   "metadata": {},
   "outputs": [
    {
     "data": {
      "text/plain": [
       "1095    257\n",
       "Name: authors, dtype: int64"
      ]
     },
     "execution_count": 156,
     "metadata": {},
     "output_type": "execute_result"
    }
   ],
   "source": [
    "books_df[books_df[\"id\"]==1096]['authors'].str.len()"
   ]
  },
  {
   "cell_type": "code",
   "execution_count": 130,
   "metadata": {},
   "outputs": [
    {
     "data": {
      "text/html": [
       "<div>\n",
       "<style scoped>\n",
       "    .dataframe tbody tr th:only-of-type {\n",
       "        vertical-align: middle;\n",
       "    }\n",
       "\n",
       "    .dataframe tbody tr th {\n",
       "        vertical-align: top;\n",
       "    }\n",
       "\n",
       "    .dataframe thead th {\n",
       "        text-align: right;\n",
       "    }\n",
       "</style>\n",
       "<table border=\"1\" class=\"dataframe\">\n",
       "  <thead>\n",
       "    <tr style=\"text-align: right;\">\n",
       "      <th></th>\n",
       "      <th>id</th>\n",
       "      <th>book_id</th>\n",
       "      <th>best_book_id</th>\n",
       "      <th>work_id</th>\n",
       "      <th>books_count</th>\n",
       "      <th>isbn</th>\n",
       "      <th>isbn13</th>\n",
       "      <th>authors</th>\n",
       "      <th>original_publication_year</th>\n",
       "      <th>original_title</th>\n",
       "      <th>...</th>\n",
       "      <th>ratings_count</th>\n",
       "      <th>work_ratings_count</th>\n",
       "      <th>work_text_reviews_count</th>\n",
       "      <th>ratings_1</th>\n",
       "      <th>ratings_2</th>\n",
       "      <th>ratings_3</th>\n",
       "      <th>ratings_4</th>\n",
       "      <th>ratings_5</th>\n",
       "      <th>image_url</th>\n",
       "      <th>small_image_url</th>\n",
       "    </tr>\n",
       "  </thead>\n",
       "  <tbody>\n",
       "    <tr>\n",
       "      <th>0</th>\n",
       "      <td>1</td>\n",
       "      <td>2767052</td>\n",
       "      <td>2767052</td>\n",
       "      <td>2792775</td>\n",
       "      <td>272</td>\n",
       "      <td>439023483</td>\n",
       "      <td>9.78043902348e+12</td>\n",
       "      <td>Suzanne Collins</td>\n",
       "      <td>2008.0</td>\n",
       "      <td>The Hunger Games</td>\n",
       "      <td>...</td>\n",
       "      <td>4780653</td>\n",
       "      <td>4942365</td>\n",
       "      <td>155254</td>\n",
       "      <td>66715</td>\n",
       "      <td>127936</td>\n",
       "      <td>560092</td>\n",
       "      <td>1481305</td>\n",
       "      <td>2706317</td>\n",
       "      <td>https://images.gr-assets.com/books/1447303603m...</td>\n",
       "      <td>https://images.gr-assets.com/books/1447303603s...</td>\n",
       "    </tr>\n",
       "    <tr>\n",
       "      <th>1</th>\n",
       "      <td>2</td>\n",
       "      <td>3</td>\n",
       "      <td>3</td>\n",
       "      <td>4640799</td>\n",
       "      <td>491</td>\n",
       "      <td>439554934</td>\n",
       "      <td>9.78043955493e+12</td>\n",
       "      <td>J.K. Rowling, Mary GrandPré</td>\n",
       "      <td>1997.0</td>\n",
       "      <td>Harry Potter and the Philosopher's Stone</td>\n",
       "      <td>...</td>\n",
       "      <td>4602479</td>\n",
       "      <td>4800065</td>\n",
       "      <td>75867</td>\n",
       "      <td>75504</td>\n",
       "      <td>101676</td>\n",
       "      <td>455024</td>\n",
       "      <td>1156318</td>\n",
       "      <td>3011543</td>\n",
       "      <td>https://images.gr-assets.com/books/1474154022m...</td>\n",
       "      <td>https://images.gr-assets.com/books/1474154022s...</td>\n",
       "    </tr>\n",
       "    <tr>\n",
       "      <th>2</th>\n",
       "      <td>3</td>\n",
       "      <td>41865</td>\n",
       "      <td>41865</td>\n",
       "      <td>3212258</td>\n",
       "      <td>226</td>\n",
       "      <td>316015849</td>\n",
       "      <td>9.78031601584e+12</td>\n",
       "      <td>Stephenie Meyer</td>\n",
       "      <td>2005.0</td>\n",
       "      <td>Twilight</td>\n",
       "      <td>...</td>\n",
       "      <td>3866839</td>\n",
       "      <td>3916824</td>\n",
       "      <td>95009</td>\n",
       "      <td>456191</td>\n",
       "      <td>436802</td>\n",
       "      <td>793319</td>\n",
       "      <td>875073</td>\n",
       "      <td>1355439</td>\n",
       "      <td>https://images.gr-assets.com/books/1361039443m...</td>\n",
       "      <td>https://images.gr-assets.com/books/1361039443s...</td>\n",
       "    </tr>\n",
       "    <tr>\n",
       "      <th>3</th>\n",
       "      <td>4</td>\n",
       "      <td>2657</td>\n",
       "      <td>2657</td>\n",
       "      <td>3275794</td>\n",
       "      <td>487</td>\n",
       "      <td>61120081</td>\n",
       "      <td>9.78006112008e+12</td>\n",
       "      <td>Harper Lee</td>\n",
       "      <td>1960.0</td>\n",
       "      <td>To Kill a Mockingbird</td>\n",
       "      <td>...</td>\n",
       "      <td>3198671</td>\n",
       "      <td>3340896</td>\n",
       "      <td>72586</td>\n",
       "      <td>60427</td>\n",
       "      <td>117415</td>\n",
       "      <td>446835</td>\n",
       "      <td>1001952</td>\n",
       "      <td>1714267</td>\n",
       "      <td>https://images.gr-assets.com/books/1361975680m...</td>\n",
       "      <td>https://images.gr-assets.com/books/1361975680s...</td>\n",
       "    </tr>\n",
       "    <tr>\n",
       "      <th>4</th>\n",
       "      <td>5</td>\n",
       "      <td>4671</td>\n",
       "      <td>4671</td>\n",
       "      <td>245494</td>\n",
       "      <td>1356</td>\n",
       "      <td>743273567</td>\n",
       "      <td>9.78074327356e+12</td>\n",
       "      <td>F. Scott Fitzgerald</td>\n",
       "      <td>1925.0</td>\n",
       "      <td>The Great Gatsby</td>\n",
       "      <td>...</td>\n",
       "      <td>2683664</td>\n",
       "      <td>2773745</td>\n",
       "      <td>51992</td>\n",
       "      <td>86236</td>\n",
       "      <td>197621</td>\n",
       "      <td>606158</td>\n",
       "      <td>936012</td>\n",
       "      <td>947718</td>\n",
       "      <td>https://images.gr-assets.com/books/1490528560m...</td>\n",
       "      <td>https://images.gr-assets.com/books/1490528560s...</td>\n",
       "    </tr>\n",
       "  </tbody>\n",
       "</table>\n",
       "<p>5 rows × 23 columns</p>\n",
       "</div>"
      ],
      "text/plain": [
       "   id  book_id  best_book_id  work_id  books_count       isbn  \\\n",
       "0   1  2767052       2767052  2792775          272  439023483   \n",
       "1   2        3             3  4640799          491  439554934   \n",
       "2   3    41865         41865  3212258          226  316015849   \n",
       "3   4     2657          2657  3275794          487   61120081   \n",
       "4   5     4671          4671   245494         1356  743273567   \n",
       "\n",
       "              isbn13                      authors original_publication_year  \\\n",
       "0  9.78043902348e+12              Suzanne Collins                    2008.0   \n",
       "1  9.78043955493e+12  J.K. Rowling, Mary GrandPré                    1997.0   \n",
       "2  9.78031601584e+12              Stephenie Meyer                    2005.0   \n",
       "3  9.78006112008e+12                   Harper Lee                    1960.0   \n",
       "4  9.78074327356e+12          F. Scott Fitzgerald                    1925.0   \n",
       "\n",
       "                             original_title  ... ratings_count  \\\n",
       "0                          The Hunger Games  ...       4780653   \n",
       "1  Harry Potter and the Philosopher's Stone  ...       4602479   \n",
       "2                                  Twilight  ...       3866839   \n",
       "3                     To Kill a Mockingbird  ...       3198671   \n",
       "4                          The Great Gatsby  ...       2683664   \n",
       "\n",
       "  work_ratings_count  work_text_reviews_count  ratings_1  ratings_2  \\\n",
       "0            4942365                   155254      66715     127936   \n",
       "1            4800065                    75867      75504     101676   \n",
       "2            3916824                    95009     456191     436802   \n",
       "3            3340896                    72586      60427     117415   \n",
       "4            2773745                    51992      86236     197621   \n",
       "\n",
       "   ratings_3  ratings_4  ratings_5  \\\n",
       "0     560092    1481305    2706317   \n",
       "1     455024    1156318    3011543   \n",
       "2     793319     875073    1355439   \n",
       "3     446835    1001952    1714267   \n",
       "4     606158     936012     947718   \n",
       "\n",
       "                                           image_url  \\\n",
       "0  https://images.gr-assets.com/books/1447303603m...   \n",
       "1  https://images.gr-assets.com/books/1474154022m...   \n",
       "2  https://images.gr-assets.com/books/1361039443m...   \n",
       "3  https://images.gr-assets.com/books/1361975680m...   \n",
       "4  https://images.gr-assets.com/books/1490528560m...   \n",
       "\n",
       "                                     small_image_url  \n",
       "0  https://images.gr-assets.com/books/1447303603s...  \n",
       "1  https://images.gr-assets.com/books/1474154022s...  \n",
       "2  https://images.gr-assets.com/books/1361039443s...  \n",
       "3  https://images.gr-assets.com/books/1361975680s...  \n",
       "4  https://images.gr-assets.com/books/1490528560s...  \n",
       "\n",
       "[5 rows x 23 columns]"
      ]
     },
     "execution_count": 130,
     "metadata": {},
     "output_type": "execute_result"
    }
   ],
   "source": [
    "books_df = pd.read_csv('./book-data/books.csv',keep_default_na=False, header = 0)\n",
    "books_df.head()"
   ]
  },
  {
   "cell_type": "code",
   "execution_count": 85,
   "metadata": {},
   "outputs": [
    {
     "data": {
      "text/plain": [
       "id                             int64:dense\n",
       "best_book_id                   int64:dense\n",
       "work_id                        int64:dense\n",
       "books_count                    int64:dense\n",
       "isbn                          object:dense\n",
       "isbn13                        object:dense\n",
       "authors                       object:dense\n",
       "original_publication_year     object:dense\n",
       "original_title                object:dense\n",
       "title                         object:dense\n",
       "language_code                 object:dense\n",
       "average_rating               float64:dense\n",
       "ratings_count                  int64:dense\n",
       "work_ratings_count             int64:dense\n",
       "work_text_reviews_count        int64:dense\n",
       "ratings_1                      int64:dense\n",
       "ratings_2                      int64:dense\n",
       "ratings_3                      int64:dense\n",
       "ratings_4                      int64:dense\n",
       "ratings_5                      int64:dense\n",
       "image_url                     object:dense\n",
       "small_image_url               object:dense\n",
       "dtype: object"
      ]
     },
     "execution_count": 85,
     "metadata": {},
     "output_type": "execute_result"
    }
   ],
   "source": [
    "# books_df.columns.tolist()\n",
    "books_df.ftypes"
   ]
  },
  {
   "cell_type": "code",
   "execution_count": 171,
   "metadata": {},
   "outputs": [
    {
     "name": "stdout",
     "output_type": "stream",
     "text": [
      "['`id` INT', '`book_id` INT', '`best_book_id` INT', '`work_id` INT', '`books_count` INT', '`isbn` VARCHAR(300)', '`isbn13` VARCHAR(300)', '`authors` VARCHAR(300)', '`original_publication_year` VARCHAR(300)', '`original_title` VARCHAR(300)', '`title` VARCHAR(300)', '`language_code` VARCHAR(300)', '`average_rating` FLOAT', '`ratings_count` INT', '`work_ratings_count` INT', '`work_text_reviews_count` INT', '`ratings_1` INT', '`ratings_2` INT', '`ratings_3` INT', '`ratings_4` INT', '`ratings_5` INT', '`image_url` VARCHAR(300)', '`small_image_url` VARCHAR(300)']\n",
      "['`id`', '`book_id`', '`best_book_id`', '`work_id`', '`books_count`', '`isbn`', '`isbn13`', '`authors`', '`original_publication_year`', '`original_title`', '`title`', '`language_code`', '`average_rating`', '`ratings_count`', '`work_ratings_count`', '`work_text_reviews_count`', '`ratings_1`', '`ratings_2`', '`ratings_3`', '`ratings_4`', '`ratings_5`', '`image_url`', '`small_image_url`']\n"
     ]
    }
   ],
   "source": [
    "columns = books_df.columns.tolist()\n",
    "types = books_df.ftypes\n",
    "make_table = []\n",
    "make_field = []\n",
    "\n",
    "for item in columns:\n",
    "    item1 = '`'+item.replace(' ', '_').replace(':','')+'`'\n",
    "    if 'int' in types[item]:\n",
    "        char = item1 + ' INT'\n",
    "    elif 'float' in types[item]:\n",
    "        char = item1 +' FLOAT'\n",
    "    elif 'object' in types[item]:\n",
    "        char = item1 +' VARCHAR(300)'\n",
    "    elif 'datetime' in types[item]:\n",
    "        char = item1 + ' DATETIME'\n",
    "    else:\n",
    "        char = item1 + ' VARCHAR(255)'\n",
    "    make_table.append(char)\n",
    "    make_field.append(item1)\n",
    "    \n",
    "print(make_table)\n",
    "print(make_field)"
   ]
  },
  {
   "cell_type": "code",
   "execution_count": null,
   "metadata": {},
   "outputs": [],
   "source": []
  },
  {
   "cell_type": "code",
   "execution_count": 3,
   "metadata": {},
   "outputs": [],
   "source": [
    "class CsvToMysql(object):\n",
    "    def __init__(self, hostname, port, user, passwd, db):\n",
    "        self.dbname = db\n",
    "        self.conn = pymysql.connect(host=hostname, port=port, user=user, passwd=passwd, db=db)\n",
    "        self.cursor = self.conn.cursor()\n",
    " \n",
    " \n",
    "    def read_csv(self,filename,indexcol=None):\n",
    "        df = pd.read_csv(filename, keep_default_na=False, encoding='utf-8')\n",
    "        try:\n",
    "            df.drop(['id'],axis=1,inplace=True)\n",
    "        except:\n",
    "            pass\n",
    "        \n",
    "        table_name = '`'+os.path.split(filename)[-1].split('.')[0].replace(' ', '_') + '`'\n",
    "        self.csv2mysql(db_name=self.dbname,table_name=table_name, df=df, col_index = indexcol)\n",
    " \n",
    " \n",
    "    def make_table_sql(self,df,col_index):\n",
    "        #将csv中的字段类型转换成mysql中的字段类型\n",
    "        columns = df.columns.tolist()\n",
    "        types = df.ftypes\n",
    "        make_table = []\n",
    "        make_field = []\n",
    "        for item in columns:\n",
    "            if item ==col_index:\n",
    "                item1 = item.replace(' ', '_').replace(':','')\n",
    "            else:\n",
    "                item1 = '`'+item.replace(' ', '_').replace(':','')+'`'\n",
    "                \n",
    "            if 'int' in types[item]:\n",
    "                char = item1 + ' INT'\n",
    "            elif 'float' in types[item]:\n",
    "                char = item1 +' FLOAT'\n",
    "            elif 'object' in types[item]:\n",
    "                char = item1 +' VARCHAR(1000)'\n",
    "            elif 'datetime' in types[item]:\n",
    "                char = item1 + ' DATETIME'\n",
    "            else:\n",
    "                char = item1 + ' VARCHAR(400)'\n",
    "            #char = item1 + ' VARCHAR(255)'\n",
    "            make_table.append(char)\n",
    "            make_field.append(item1)\n",
    "#         return ','.join(make_table), ','.join(make_field)\n",
    "        return make_table,make_field\n",
    "\n",
    "    def csv2mysql(self,db_name,table_name,df, col_index):\n",
    "        make_table, make_field = self.make_table_sql(df,col_index)\n",
    "\n",
    "        field1 = ','.join(make_table[1:])\n",
    "        field2 = ','.join(make_field)\n",
    "        \n",
    "        print(\"create table {} ({} AUTO_INCREMENT not null primary key, {})\".format(table_name,make_table[0],field1))\n",
    "        self.cursor.execute('drop table if exists {}'.format(table_name))\n",
    "        self.cursor.execute(\"create table {} ({} AUTO_INCREMENT not null primary key,{})\".format(table_name,make_table[0],field1))\n",
    "        values = df.values.tolist()\n",
    "        s = ','.join(['%s' for _ in range(len(df.columns))])\n",
    "        try:\n",
    "            print(len(values[0]),len(s.split(',')))\n",
    "            print('insert into {}({}) values ({})'.format(table_name, field2, s), values[0])\n",
    "            self.cursor.executemany('insert into {}({}) values ({})'.format(table_name, field2, s), values)\n",
    "            \n",
    "        except Exception as e:\n",
    "            print(\"Exception\",e)\n",
    "        finally:\n",
    "            self.conn.commit()"
   ]
  },
  {
   "cell_type": "code",
   "execution_count": 4,
   "metadata": {},
   "outputs": [],
   "source": [
    "M = CsvToMysql(hostname=HOST, port=PORT, user=USER, passwd=PASS, db=DB)"
   ]
  },
  {
   "cell_type": "code",
   "execution_count": 5,
   "metadata": {},
   "outputs": [
    {
     "name": "stdout",
     "output_type": "stream",
     "text": [
      "create table `books` (book_id INT AUTO_INCREMENT not null primary key, `best_book_id` INT,`work_id` INT,`books_count` INT,`isbn` VARCHAR(1000),`isbn13` VARCHAR(1000),`authors` VARCHAR(1000),`original_publication_year` VARCHAR(1000),`original_title` VARCHAR(1000),`title` VARCHAR(1000),`language_code` VARCHAR(1000),`average_rating` FLOAT,`ratings_count` INT,`work_ratings_count` INT,`work_text_reviews_count` INT,`ratings_1` INT,`ratings_2` INT,`ratings_3` INT,`ratings_4` INT,`ratings_5` INT,`image_url` VARCHAR(1000),`small_image_url` VARCHAR(1000))\n",
      "22 22\n",
      "insert into `books`(book_id,`best_book_id`,`work_id`,`books_count`,`isbn`,`isbn13`,`authors`,`original_publication_year`,`original_title`,`title`,`language_code`,`average_rating`,`ratings_count`,`work_ratings_count`,`work_text_reviews_count`,`ratings_1`,`ratings_2`,`ratings_3`,`ratings_4`,`ratings_5`,`image_url`,`small_image_url`) values (%s,%s,%s,%s,%s,%s,%s,%s,%s,%s,%s,%s,%s,%s,%s,%s,%s,%s,%s,%s,%s,%s) [2767052, 2767052, 2792775, 272, '439023483', '9.78043902348e+12', 'Suzanne Collins', '2008.0', 'The Hunger Games', 'The Hunger Games (The Hunger Games, #1)', 'eng', 4.34, 4780653, 4942365, 155254, 66715, 127936, 560092, 1481305, 2706317, 'https://images.gr-assets.com/books/1447303603m/2767052.jpg', 'https://images.gr-assets.com/books/1447303603s/2767052.jpg']\n"
     ]
    }
   ],
   "source": [
    "M.read_csv('./book-data/books.csv','book_id')"
   ]
  },
  {
   "cell_type": "code",
   "execution_count": null,
   "metadata": {},
   "outputs": [],
   "source": []
  },
  {
   "cell_type": "code",
   "execution_count": 6,
   "metadata": {},
   "outputs": [],
   "source": [
    "from flask_sqlalchemy import SQLAlchemy"
   ]
  },
  {
   "cell_type": "code",
   "execution_count": 12,
   "metadata": {},
   "outputs": [
    {
     "data": {
      "text/plain": [
       "'1, 2, 3, 4, 5'"
      ]
     },
     "execution_count": 12,
     "metadata": {},
     "output_type": "execute_result"
    }
   ],
   "source": [
    "\n",
    "\n",
    "a = [1,2,3,4,5]\n",
    "str(a)[1:-1]"
   ]
  },
  {
   "cell_type": "code",
   "execution_count": null,
   "metadata": {},
   "outputs": [],
   "source": []
  }
 ],
 "metadata": {
  "kernelspec": {
   "display_name": "Python 3",
   "language": "python",
   "name": "python3"
  },
  "language_info": {
   "codemirror_mode": {
    "name": "ipython",
    "version": 3
   },
   "file_extension": ".py",
   "mimetype": "text/x-python",
   "name": "python",
   "nbconvert_exporter": "python",
   "pygments_lexer": "ipython3",
   "version": "3.6.8"
  },
  "toc": {
   "base_numbering": 1,
   "nav_menu": {},
   "number_sections": true,
   "sideBar": true,
   "skip_h1_title": false,
   "title_cell": "Table of Contents",
   "title_sidebar": "Contents",
   "toc_cell": false,
   "toc_position": {},
   "toc_section_display": true,
   "toc_window_display": false
  }
 },
 "nbformat": 4,
 "nbformat_minor": 2
}
